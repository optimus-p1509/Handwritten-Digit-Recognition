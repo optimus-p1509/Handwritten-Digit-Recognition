{
 "cells": [
  {
   "cell_type": "markdown",
   "metadata": {},
   "source": [
    "## MNIST Data Preprocessing"
   ]
  },
  {
   "cell_type": "code",
   "execution_count": 10,
   "metadata": {},
   "outputs": [
    {
     "name": "stdout",
     "output_type": "stream",
     "text": [
      "(50000, 784) (50000,)\n",
      "(10000, 784) (10000,)\n"
     ]
    }
   ],
   "source": [
    "import pickle\n",
    "import gzip\n",
    "import numpy as np\n",
    "import matplotlib.pyplot as plt\n",
    "\n",
    "path = 'mnist.pkl.gz'\n",
    "f = gzip.open(path, 'rb')\n",
    "training_data, validation_data, test_data = pickle.load(f, encoding='latin1')\n",
    "f.close()\n",
    "\n",
    "x_train, y_train = training_data[0], training_data[1]\n",
    "print (x_train.shape, y_train.shape)\n",
    "\n",
    "x_test, y_test = test_data[0], test_data[1]\n",
    "print (x_test.shape, y_test.shape)"
   ]
  },
  {
   "cell_type": "markdown",
   "metadata": {},
   "source": [
    "## USPS Data Preprocessing"
   ]
  },
  {
   "cell_type": "code",
   "execution_count": 11,
   "metadata": {},
   "outputs": [],
   "source": [
    "from PIL import Image\n",
    "import os\n",
    "import numpy as np\n",
    "\n",
    "#USPS data preprocessing\n",
    "USPSMat  = []\n",
    "USPSTar  = []\n",
    "curPath  = 'USPSdata/Numerals'\n",
    "savedImg = []\n",
    "\n",
    "\n",
    "for j in range(0,10):\n",
    "    curFolderPath = curPath + '/' + str(j)\n",
    "    imgs =  os.listdir(curFolderPath)\n",
    "    for img in imgs:\n",
    "        curImg = curFolderPath + '/' + img\n",
    "        if curImg[-3:] == 'png':\n",
    "            img = Image.open(curImg,'r')\n",
    "            img = img.resize((28, 28))\n",
    "            savedImg = img\n",
    "            imgdata = (255-np.array(img.getdata()))/255\n",
    "            USPSMat.append(imgdata)\n",
    "            USPSTar.append(j)\n",
    "usps_data = np.array(USPSMat) \n",
    "usps_lables = np.array(USPSTar)\n"
   ]
  },
  {
   "cell_type": "markdown",
   "metadata": {},
   "source": [
    "## SVM Classifier"
   ]
  },
  {
   "cell_type": "code",
   "execution_count": 12,
   "metadata": {},
   "outputs": [
    {
     "name": "stdout",
     "output_type": "stream",
     "text": [
      "SVM accuracy:  0.9456\n",
      "Classification report for classifier SVC(C=2, cache_size=200, class_weight=None, coef0=0.0,\n",
      "  decision_function_shape='ovr', degree=3, gamma=0.001, kernel='rbf',\n",
      "  max_iter=-1, probability=False, random_state=None, shrinking=True,\n",
      "  tol=0.001, verbose=False):\n",
      "             precision    recall  f1-score   support\n",
      "\n",
      "          0       0.96      0.99      0.97       980\n",
      "          1       0.97      0.99      0.98      1135\n",
      "          2       0.93      0.94      0.94      1032\n",
      "          3       0.92      0.94      0.93      1010\n",
      "          4       0.93      0.95      0.94       982\n",
      "          5       0.93      0.91      0.92       892\n",
      "          6       0.95      0.97      0.96       958\n",
      "          7       0.96      0.93      0.94      1028\n",
      "          8       0.95      0.92      0.93       974\n",
      "          9       0.94      0.92      0.93      1009\n",
      "\n",
      "avg / total       0.95      0.95      0.95     10000\n",
      "\n",
      "\n",
      "Confusion matrix:\n",
      "[[ 967    0    1    0    0    5    4    1    2    0]\n",
      " [   0 1122    2    3    0    1    3    1    3    0]\n",
      " [   7    1  969    8   10    2   10   10   13    2]\n",
      " [   1    1   18  947    1   16    1    9   12    4]\n",
      " [   1    1    7    0  936    0    7    2    2   26]\n",
      " [   7    4    5   32    6  809   13    1   10    5]\n",
      " [   9    3    4    1    5    8  927    0    1    0]\n",
      " [   1   12   23    6    7    1    0  960    3   15]\n",
      " [   4    5    7   15    8   24   10    7  892    2]\n",
      " [   8    6    1   14   29    4    1   14    5  927]]\n"
     ]
    }
   ],
   "source": [
    "from sklearn.metrics import accuracy_score\n",
    "import matplotlib.pyplot as plt\n",
    "from sklearn import svm, metrics, datasets\n",
    "\n",
    "classifier = svm.SVC(kernel='rbf', C=2,gamma=0.001)\n",
    "classifier.fit(x_train, y_train )\n",
    "\n",
    "#testing using mnist\n",
    "expected = y_test\n",
    "predicted = classifier.predict(x_test)\n",
    "np.savetxt(\"svm.csv\", predicted, delimiter=\",\")\n",
    "acc_svm = accuracy_score(expected, predicted)\n",
    "print (\"SVM accuracy: \",acc_svm)\n",
    "print(\"Classification report for classifier %s:\\n%s\\n\"\n",
    "      % (classifier, metrics.classification_report(expected, predicted)))\n",
    "print(\"Confusion matrix:\\n%s\" % metrics.confusion_matrix(expected, predicted))\n"
   ]
  },
  {
   "cell_type": "markdown",
   "metadata": {},
   "source": [
    "### Testing using USPS"
   ]
  },
  {
   "cell_type": "code",
   "execution_count": 13,
   "metadata": {},
   "outputs": [
    {
     "name": "stdout",
     "output_type": "stream",
     "text": [
      "testing using USPS dataset\n",
      "SVM USPS accuracy:  0.38516925846292316\n",
      "Classification report for classifier SVC(C=2, cache_size=200, class_weight=None, coef0=0.0,\n",
      "  decision_function_shape='ovr', degree=3, gamma=0.001, kernel='rbf',\n",
      "  max_iter=-1, probability=False, random_state=None, shrinking=True,\n",
      "  tol=0.001, verbose=False):\n",
      "             precision    recall  f1-score   support\n",
      "\n",
      "          0       0.44      0.29      0.35      2000\n",
      "          1       0.46      0.21      0.29      2000\n",
      "          2       0.34      0.71      0.46      1999\n",
      "          3       0.48      0.56      0.52      2000\n",
      "          4       0.53      0.57      0.55      2000\n",
      "          5       0.29      0.67      0.40      2000\n",
      "          6       0.66      0.37      0.48      2000\n",
      "          7       0.24      0.23      0.23      2000\n",
      "          8       0.35      0.12      0.18      2000\n",
      "          9       0.29      0.11      0.16      2000\n",
      "\n",
      "avg / total       0.41      0.39      0.36     19999\n",
      "\n",
      "\n",
      "Confusion matrix:\n",
      "[[ 580    2  424   22  265  253   68   52    6  328]\n",
      " [ 102  413  311  154  264  173   43  500   23   17]\n",
      " [ 126   16 1416   67   38  192   60   55   19   10]\n",
      " [  69    5  199 1128    8  479    5   64   30   13]\n",
      " [  15   53   95   15 1150  251   25  220   74  102]\n",
      " [ 104   18  281  116   20 1337   61   39   19    5]\n",
      " [ 178    6  521   31   89  381  749   10    6   29]\n",
      " [  44  208  433  301   57  403   15  460   56   23]\n",
      " [  73   22  220  203   81 1000   95   40  242   24]\n",
      " [  18  150  237  293  188  158    6  510  212  228]]\n"
     ]
    }
   ],
   "source": [
    "print(\"testing using USPS dataset\")\n",
    "expected = usps_lables\n",
    "predicted = classifier.predict(usps_data)\n",
    "np.savetxt(\"svm_usps.csv\", predicted, delimiter=\",\")\n",
    "acc_svm_usps = accuracy_score(expected, predicted)\n",
    "print (\"SVM USPS accuracy: \",acc_svm_usps)\n",
    "print(\"Classification report for classifier %s:\\n%s\\n\"\n",
    "      % (classifier, metrics.classification_report(expected, predicted)))\n",
    "print(\"Confusion matrix:\\n%s\" % metrics.confusion_matrix(expected, predicted))\n"
   ]
  },
  {
   "cell_type": "markdown",
   "metadata": {},
   "source": [
    "## Random Forests Classifier"
   ]
  },
  {
   "cell_type": "code",
   "execution_count": 14,
   "metadata": {},
   "outputs": [
    {
     "name": "stdout",
     "output_type": "stream",
     "text": [
      "Random forest accuracy:  0.9445\n",
      "Classification report for classifier SVC(C=2, cache_size=200, class_weight=None, coef0=0.0,\n",
      "  decision_function_shape='ovr', degree=3, gamma=0.001, kernel='rbf',\n",
      "  max_iter=-1, probability=False, random_state=None, shrinking=True,\n",
      "  tol=0.001, verbose=False):\n",
      "             precision    recall  f1-score   support\n",
      "\n",
      "          0       0.94      0.98      0.96       980\n",
      "          1       0.98      0.99      0.98      1135\n",
      "          2       0.93      0.95      0.94      1032\n",
      "          3       0.90      0.93      0.92      1010\n",
      "          4       0.95      0.95      0.95       982\n",
      "          5       0.92      0.91      0.91       892\n",
      "          6       0.96      0.95      0.96       958\n",
      "          7       0.95      0.94      0.95      1028\n",
      "          8       0.95      0.90      0.93       974\n",
      "          9       0.95      0.92      0.94      1009\n",
      "\n",
      "avg / total       0.94      0.94      0.94     10000\n",
      "\n",
      "\n",
      "Confusion matrix:\n",
      "[[ 964    1    0    3    0    4    4    1    2    1]\n",
      " [   0 1123    4    3    0    3    2    0    0    0]\n",
      " [  10    1  978   10    5    1    4   14    8    1]\n",
      " [   3    1   19  940    0   19    0   12   11    5]\n",
      " [   4    2    8    0  934    1    4    4    5   20]\n",
      " [   5    2    2   42    7  810    9    2    9    4]\n",
      " [  14    3    4    1   10   10  913    1    2    0]\n",
      " [   2    6   20    6    4    1    0  971    4   14]\n",
      " [  10    1   10   21    7   20    8   10  879    8]\n",
      " [  10    6    2   15   17   10    3    7    6  933]]\n"
     ]
    }
   ],
   "source": [
    "from sklearn.metrics import accuracy_score\n",
    "from sklearn.ensemble import RandomForestClassifier\n",
    "\n",
    "clf_rf = RandomForestClassifier()\n",
    "clf_rf.fit(x_train, y_train)\n",
    "y_pred_rf = clf_rf.predict(x_test)\n",
    "np.savetxt(\"rf.csv\", y_pred_rf, delimiter=\",\")\n",
    "acc_rf = accuracy_score(y_test, y_pred_rf)\n",
    "print (\"Random forest accuracy: \",acc_rf)\n",
    "print(\"Classification report for classifier %s:\\n%s\\n\"\n",
    "      % (classifier, metrics.classification_report(y_test, y_pred_rf)))\n",
    "print(\"Confusion matrix:\\n%s\" % metrics.confusion_matrix(y_test, y_pred_rf))"
   ]
  },
  {
   "cell_type": "markdown",
   "metadata": {},
   "source": [
    "### Testing using USPS"
   ]
  },
  {
   "cell_type": "code",
   "execution_count": 15,
   "metadata": {},
   "outputs": [
    {
     "name": "stdout",
     "output_type": "stream",
     "text": [
      "testing using USPS dataset\n",
      "Random forest USPS accuracy:  0.31636581829091454\n",
      "Classification report for classifier SVC(C=2, cache_size=200, class_weight=None, coef0=0.0,\n",
      "  decision_function_shape='ovr', degree=3, gamma=0.001, kernel='rbf',\n",
      "  max_iter=-1, probability=False, random_state=None, shrinking=True,\n",
      "  tol=0.001, verbose=False):\n",
      "             precision    recall  f1-score   support\n",
      "\n",
      "          0       0.35      0.30      0.33      2000\n",
      "          1       0.34      0.39      0.36      2000\n",
      "          2       0.31      0.51      0.38      1999\n",
      "          3       0.35      0.52      0.42      2000\n",
      "          4       0.40      0.42      0.41      2000\n",
      "          5       0.29      0.42      0.35      2000\n",
      "          6       0.50      0.24      0.32      2000\n",
      "          7       0.18      0.26      0.21      2000\n",
      "          8       0.33      0.06      0.11      2000\n",
      "          9       0.18      0.04      0.07      2000\n",
      "\n",
      "avg / total       0.32      0.32      0.30     19999\n",
      "\n",
      "\n",
      "Confusion matrix:\n",
      "[[ 609   56  273  130  351  170  107  134   18  152]\n",
      " [  52  770  172  114   83   76   35  667   18   13]\n",
      " [ 133  165 1015  163   84  136   53  213   16   21]\n",
      " [  70   93  209 1044   55  296   11  154   27   41]\n",
      " [  35  224  122  104  831  154   37  400   31   62]\n",
      " [ 206   87  225  298   83  848   50  149   30   24]\n",
      " [ 356  105  300  105  163  342  472  120   19   18]\n",
      " [  81  365  375  327   63  161   53  527   31   17]\n",
      " [ 133  122  282  330  185  561  103  111  125   48]\n",
      " [  61  270  307  397  194  142   21  460   62   86]]\n"
     ]
    }
   ],
   "source": [
    "print(\"testing using USPS dataset\")\n",
    "expected = usps_lables\n",
    "predicted = clf_rf.predict(usps_data)\n",
    "np.savetxt(\"rf_usps.csv\", predicted, delimiter=\",\")\n",
    "acc_rf_usps = accuracy_score(expected, predicted)\n",
    "print (\"Random forest USPS accuracy: \",acc_rf_usps)\n",
    "print(\"Classification report for classifier %s:\\n%s\\n\"\n",
    "      % (classifier, metrics.classification_report(expected, predicted)))\n",
    "print(\"Confusion matrix:\\n%s\" % metrics.confusion_matrix(expected, predicted))\n"
   ]
  },
  {
   "cell_type": "code",
   "execution_count": null,
   "metadata": {},
   "outputs": [],
   "source": []
  }
 ],
 "metadata": {
  "kernelspec": {
   "display_name": "Python 3",
   "language": "python",
   "name": "python3"
  },
  "language_info": {
   "codemirror_mode": {
    "name": "ipython",
    "version": 3
   },
   "file_extension": ".py",
   "mimetype": "text/x-python",
   "name": "python",
   "nbconvert_exporter": "python",
   "pygments_lexer": "ipython3",
   "version": "3.6.5"
  }
 },
 "nbformat": 4,
 "nbformat_minor": 2
}
