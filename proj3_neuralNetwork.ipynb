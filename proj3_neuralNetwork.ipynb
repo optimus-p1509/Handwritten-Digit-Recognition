{
 "cells": [
  {
   "cell_type": "markdown",
   "metadata": {},
   "source": [
    "## Generating training and testing datasets (MNIST)"
   ]
  },
  {
   "cell_type": "code",
   "execution_count": 1,
   "metadata": {},
   "outputs": [
    {
     "name": "stdout",
     "output_type": "stream",
     "text": [
      "(50000, 784) (50000,)\n",
      "(10000, 784) (10000,)\n"
     ]
    }
   ],
   "source": [
    "import pickle\n",
    "import gzip\n",
    "import numpy as np\n",
    "import matplotlib.pyplot as plt\n",
    "\n",
    "path = 'mnist.pkl.gz'\n",
    "f = gzip.open(path, 'rb')\n",
    "training_data, validation_data, test_data = pickle.load(f, encoding='latin1')\n",
    "f.close()\n",
    "\n",
    "x_train, y_train = training_data[0], training_data[1]\n",
    "print (x_train.shape, y_train.shape)\n",
    "\n",
    "x_test, y_test = test_data[0], test_data[1]\n",
    "print (x_test.shape, y_test.shape)\n",
    "\n",
    "x_traindnn = x_train\n",
    "y_traindnn = y_train\n",
    "\n",
    "x_testdnn = x_test\n",
    "y_testdnn = y_test"
   ]
  },
  {
   "cell_type": "markdown",
   "metadata": {},
   "source": [
    "## Classification using a CNN"
   ]
  },
  {
   "cell_type": "code",
   "execution_count": 2,
   "metadata": {},
   "outputs": [
    {
     "name": "stdout",
     "output_type": "stream",
     "text": [
      "x_train shape (50000, 28, 28, 1)\n",
      "x_test shape (10000, 28, 28, 1)\n"
     ]
    }
   ],
   "source": [
    "# Reshaping the array to 4-dims so that it can work with the Keras API\n",
    "x_train = x_train.reshape(x_train.shape[0], 28, 28, 1)\n",
    "x_test = x_test.reshape(x_test.shape[0], 28, 28, 1)\n",
    "\n",
    "print('x_train shape', x_train.shape)\n",
    "print('x_test shape', x_test.shape)"
   ]
  },
  {
   "cell_type": "code",
   "execution_count": 3,
   "metadata": {},
   "outputs": [
    {
     "name": "stderr",
     "output_type": "stream",
     "text": [
      "C:\\Users\\Parth\\Anaconda3\\lib\\site-packages\\h5py\\__init__.py:36: FutureWarning: Conversion of the second argument of issubdtype from `float` to `np.floating` is deprecated. In future, it will be treated as `np.float64 == np.dtype(float).type`.\n",
      "  from ._conv import register_converters as _register_converters\n",
      "Using TensorFlow backend.\n"
     ]
    },
    {
     "name": "stdout",
     "output_type": "stream",
     "text": [
      "Epoch 1/10\n",
      "50000/50000 [==============================] - 71s 1ms/step - loss: 0.2256 - acc: 0.9314\n",
      "Epoch 2/10\n",
      "50000/50000 [==============================] - 77s 2ms/step - loss: 0.0913 - acc: 0.9715\n",
      "Epoch 3/10\n",
      "50000/50000 [==============================] - 71s 1ms/step - loss: 0.0640 - acc: 0.9801\n",
      "Epoch 4/10\n",
      "50000/50000 [==============================] - 78s 2ms/step - loss: 0.0492 - acc: 0.9838\n",
      "Epoch 5/10\n",
      "50000/50000 [==============================] - 70s 1ms/step - loss: 0.0395 - acc: 0.9873\n",
      "Epoch 6/10\n",
      "50000/50000 [==============================] - 74s 1ms/step - loss: 0.0317 - acc: 0.9896\n",
      "Epoch 7/10\n",
      "50000/50000 [==============================] - 77s 2ms/step - loss: 0.0265 - acc: 0.9912\n",
      "Epoch 8/10\n",
      "50000/50000 [==============================] - 81s 2ms/step - loss: 0.0252 - acc: 0.9915\n",
      "Epoch 9/10\n",
      "50000/50000 [==============================] - 70s 1ms/step - loss: 0.0194 - acc: 0.9931\n",
      "Epoch 10/10\n",
      "50000/50000 [==============================] - 64s 1ms/step - loss: 0.0201 - acc: 0.9931\n"
     ]
    },
    {
     "data": {
      "image/png": "[encoded data removed]",
      "text/plain": [
       "<Figure size 720x1080 with 2 Axes>"
      ]
     },
     "metadata": {},
     "output_type": "display_data"
    }
   ],
   "source": [
    "# Building the model\n",
    "import tensorflow as tf\n",
    "from keras.models import Sequential\n",
    "from keras.layers import Dense, Conv2D, Dropout, Flatten, MaxPooling2D\n",
    "%matplotlib inline\n",
    "import pandas as pd\n",
    "\n",
    "#creating a CNN\n",
    "input_shape = (28, 28, 1)   \n",
    "model = Sequential()\n",
    "model.add(Conv2D(28, kernel_size=(3,3), input_shape=input_shape))\n",
    "model.add(MaxPooling2D(pool_size=(2, 2)))\n",
    "model.add(Flatten())\n",
    "model.add(Dense(128, activation=tf.nn.relu))\n",
    "model.add(Dropout(0.2))\n",
    "y_predicted = model.add(Dense(10,activation=tf.nn.softmax))\n",
    "\n",
    "#Compiling the CNN\n",
    "model.compile(optimizer='adam', \n",
    "              loss='sparse_categorical_crossentropy', \n",
    "              metrics=['accuracy'])\n",
    "history = model.fit(x=x_train,y=y_train, epochs=10)\n",
    "\n",
    "#plot graphs\n",
    "df = pd.DataFrame(history.history)\n",
    "df.plot(subplots=True, grid=True, figsize=(10,15))\n",
    "plt.savefig('cnn.png')"
   ]
  },
  {
   "cell_type": "markdown",
   "metadata": {},
   "source": [
    "## Testing the CNN model using MNIST and USPS datasets"
   ]
  },
  {
   "cell_type": "code",
   "execution_count": 4,
   "metadata": {},
   "outputs": [
    {
     "name": "stdout",
     "output_type": "stream",
     "text": [
      "(10000, 28, 28, 1)\n",
      "(10000,)\n",
      "10000/10000 [==============================] - 3s 317us/step\n",
      "Test loss: 0.06231274970922204\n",
      "Test accuracy: 0.9849\n",
      "Confusion Matrix: \n",
      "\n",
      " [[ 971    0    1    0    0    1    3    1    3    0]\n",
      " [   0 1125    3    0    0    0    4    2    1    0]\n",
      " [   1    1 1013    0    1    0    5    8    3    0]\n",
      " [   0    0    3  997    0    2    0    5    1    2]\n",
      " [   0    0    1    1  963    0    2    1    1   13]\n",
      " [   2    0    0    6    0  877    4    0    3    0]\n",
      " [   3    2    0    1    2    2  946    0    2    0]\n",
      " [   0    3    7    0    0    0    0 1010    1    7]\n",
      " [   2    0    2    2    0    0    3    3  958    4]\n",
      " [   1    1    0    2    3    4    1    5    3  989]]\n"
     ]
    }
   ],
   "source": [
    "#Testing using MNIST dataset\n",
    "score = model.evaluate(x_test, y_test)\n",
    "print('Test loss:', score[0])\n",
    "print('Test accuracy:', score[1])\n",
    "\n",
    "pred1 = np.empty((10000,0))\n",
    "for i in range(10000):\n",
    "    pred = model.predict(x_test[i].reshape(1, 28, 28, 1))\n",
    "    pred = pred.argmax()\n",
    "    pred1 = np.append(pred1, pred)\n",
    "\n",
    "np.savetxt(\"cnn.csv\", pred1, delimiter=\",\")\n",
    "confusion = tf.confusion_matrix(labels=y_test, predictions=pred1)\n",
    "\n",
    "with tf.Session():\n",
    "   print('Confusion Matrix: \\n\\n', tf.Tensor.eval(confusion,feed_dict=None, session=None))\n",
    " "
   ]
  },
  {
   "cell_type": "code",
   "execution_count": 5,
   "metadata": {},
   "outputs": [
    {
     "name": "stdout",
     "output_type": "stream",
     "text": [
      "19999/19999 [==============================] - 6s 317us/step\n",
      "Test loss: 3.3960397548511976\n",
      "Test accuracy: 0.4978248912594641\n",
      "Confusion Matrix: \n",
      "\n",
      " [[ 205    0   64   73  395   22   32   39   36 1134]\n",
      " [  46  294  271  133  420   15   78  438  196  109]\n",
      " [  29    4 1461  114   57   11   89   92   84   58]\n",
      " [   6    1   67 1551   13   66   50   35  130   81]\n",
      " [   8    0   68   68 1439    8   21   77  181  130]\n",
      " [  81    0  107  213   29 1027   43   54   59  387]\n",
      " [  64    0  216   34  327   18 1223    5   38   75]\n",
      " [  11    6   87  689   22   11    0  862  141  171]\n",
      " [  36    2  148  299   48  124   41   55  698  549]\n",
      " [   5    6   96  187   78   18    3  171  240 1196]]\n"
     ]
    }
   ],
   "source": [
    "#Testing using USPS dataset\n",
    "\n",
    "from PIL import Image\n",
    "import os\n",
    "import numpy as np\n",
    "\n",
    "#USPS data preprocessing\n",
    "USPSMat  = []\n",
    "USPSTar  = []\n",
    "curPath  = 'USPSdata/Numerals'\n",
    "savedImg = []\n",
    "USPSMatNew  = []\n",
    "USPSTarNew  = []\n",
    "\n",
    "\n",
    "for j in range(0,10):\n",
    "    #print(j)\n",
    "    curFolderPath = curPath + '/' + str(j)\n",
    "    imgs =  os.listdir(curFolderPath)\n",
    "    for img in imgs:\n",
    "        curImg = curFolderPath + '/' + img\n",
    "        if curImg[-3:] == 'png':\n",
    "            img = Image.open(curImg,'r')\n",
    "            img = img.resize((20, 20))\n",
    "            imgData = (255-np.array(img.getdata()))/255\n",
    "            USPSMat.append(imgData)\n",
    "            USPSTar.append(j)\n",
    "            new_im = Image.new(\"P\", (28,28), (255))\n",
    "            new_im.paste(img, (4,4))\n",
    "            savedImg = new_im\n",
    "            new_imData = (255-np.array(new_im.getdata()))/255\n",
    "            USPSMatNew.append(new_imData)\n",
    "            USPSTarNew.append(j)\n",
    "usps_data = np.array(USPSMatNew) \n",
    "usps_lables = np.array(USPSTarNew)\n",
    "usps_data = usps_data.reshape(usps_data.shape[0], 28, 28, 1)\n",
    "\n",
    "#Testing using USPS data\n",
    "\n",
    "score = model.evaluate(usps_data, usps_lables)\n",
    "print('Test loss:', score[0])\n",
    "print('Test accuracy:', score[1])\n",
    "\n",
    "pred1 = np.empty((19999,0))\n",
    "for i in range(19999):\n",
    "    pred = model.predict(usps_data[i].reshape(1, 28, 28, 1))\n",
    "    pred = pred.argmax()\n",
    "    pred1 = np.append(pred1, pred)\n",
    "np.savetxt(\"cnn_usps.csv\", pred1, delimiter=\",\")\n",
    "confusion = tf.confusion_matrix(labels=usps_lables, predictions=pred1)\n",
    "\n",
    "with tf.Session():\n",
    "   print('Confusion Matrix: \\n\\n', tf.Tensor.eval(confusion,feed_dict=None, session=None))\n",
    " "
   ]
  },
  {
   "cell_type": "markdown",
   "metadata": {},
   "source": [
    "## Classification using DNN"
   ]
  },
  {
   "cell_type": "code",
   "execution_count": 6,
   "metadata": {},
   "outputs": [
    {
     "name": "stdout",
     "output_type": "stream",
     "text": [
      "_________________________________________________________________\n",
      "Layer (type)                 Output Shape              Param #   \n",
      "=================================================================\n",
      "dense_3 (Dense)              (None, 2048)              1607680   \n",
      "_________________________________________________________________\n",
      "activation_1 (Activation)    (None, 2048)              0         \n",
      "_________________________________________________________________\n",
      "dropout_2 (Dropout)          (None, 2048)              0         \n",
      "_________________________________________________________________\n",
      "dense_4 (Dense)              (None, 10)                20490     \n",
      "_________________________________________________________________\n",
      "activation_2 (Activation)    (None, 10)                0         \n",
      "=================================================================\n",
      "Total params: 1,628,170\n",
      "Trainable params: 1,628,170\n",
      "Non-trainable params: 0\n",
      "_________________________________________________________________\n",
      "Epoch 1/10\n",
      "50000/50000 [==============================] - 101s 2ms/step - loss: 0.2061 - acc: 0.9372\n",
      "Epoch 2/10\n",
      "50000/50000 [==============================] - 95s 2ms/step - loss: 0.0928 - acc: 0.9710\n",
      "Epoch 3/10\n",
      "50000/50000 [==============================] - 95s 2ms/step - loss: 0.0651 - acc: 0.9796\n",
      "Epoch 4/10\n",
      "50000/50000 [==============================] - 95s 2ms/step - loss: 0.0508 - acc: 0.9838\n",
      "Epoch 5/10\n",
      "50000/50000 [==============================] - 84s 2ms/step - loss: 0.0414 - acc: 0.9866: 0s - loss: 0.0413 - acc: 0.\n",
      "Epoch 6/10\n",
      "50000/50000 [==============================] - 93s 2ms/step - loss: 0.0340 - acc: 0.9889\n",
      "Epoch 7/10\n",
      "50000/50000 [==============================] - 95s 2ms/step - loss: 0.0306 - acc: 0.9897\n",
      "Epoch 8/10\n",
      "50000/50000 [==============================] - 93s 2ms/step - loss: 0.0302 - acc: 0.9903\n",
      "Epoch 9/10\n",
      "50000/50000 [==============================] - 94s 2ms/step - loss: 0.0246 - acc: 0.9924\n",
      "Epoch 10/10\n",
      "50000/50000 [==============================] - 91s 2ms/step - loss: 0.0224 - acc: 0.9932\n"
     ]
    },
    {
     "data": {
      "image/png": "[encoded data removed]",
      "text/plain": [
       "<Figure size 720x1080 with 2 Axes>"
      ]
     },
     "metadata": {},
     "output_type": "display_data"
    }
   ],
   "source": [
    "from keras.models import Sequential\n",
    "from keras.layers import Dense, Activation, Dropout\n",
    "from keras.callbacks import EarlyStopping, TensorBoard\n",
    "import numpy as np\n",
    "from keras.utils import to_categorical\n",
    "\n",
    "\n",
    "input_size = 784\n",
    "drop_out = 0.2\n",
    "first_dense_layer_nodes  = 2048\n",
    "second_dense_layer_nodes = 10\n",
    "\n",
    "def get_model():\n",
    "    model = Sequential()\n",
    "  \n",
    "    model.add(Dense(first_dense_layer_nodes, input_dim=input_size))\n",
    "    model.add(Activation('relu'))\n",
    "    model.add(Dropout(drop_out)) \n",
    "    model.add(Dense(second_dense_layer_nodes))\n",
    "    model.add(Activation('softmax'))\n",
    "    \n",
    "    model.summary()\n",
    "    \n",
    "    model.compile(optimizer='adam',\n",
    "                  loss='categorical_crossentropy',\n",
    "                  metrics=['accuracy'])\n",
    "    return model\n",
    "\n",
    "model_dnn = get_model()\n",
    "history = model_dnn.fit(x=x_traindnn,y=to_categorical(y_traindnn), epochs=10)\n",
    "\n",
    "#plot graphs\n",
    "df = pd.DataFrame(history.history)\n",
    "df.plot(subplots=True, grid=True, figsize=(10,15))\n",
    "plt.savefig('dnn.png')"
   ]
  },
  {
   "cell_type": "markdown",
   "metadata": {},
   "source": [
    "## Testing the DNN model using MNIST and USPS datasets"
   ]
  },
  {
   "cell_type": "code",
   "execution_count": 7,
   "metadata": {},
   "outputs": [
    {
     "name": "stdout",
     "output_type": "stream",
     "text": [
      "10000/10000 [==============================] - 3s 315us/step\n",
      "Test loss: 0.10122074194729075\n",
      "Test accuracy: 0.9783\n",
      "[7. 2. 1. ... 4. 5. 6.]\n",
      "[7 2 1 ... 4 5 6]\n",
      "Confusion Matrix: \n",
      "\n",
      " [[ 973    1    1    0    1    1    1    1    1    0]\n",
      " [   0 1127    1    0    0    1    2    2    2    0]\n",
      " [  17    0  996    0    3    0    2    8    5    1]\n",
      " [   4    0    6  980    0    2    0    4    9    5]\n",
      " [   2    0    2    0  953    0    3    2    1   19]\n",
      " [   3    0    0    9    0  861    9    0    4    6]\n",
      " [   5    2    0    0    3    0  945    0    3    0]\n",
      " [   1    0    5    2    0    0    0 1011    2    7]\n",
      " [   9    0    1    3    1    6    1    3  948    2]\n",
      " [   4    3    0    3    3    1    0    6    0  989]]\n"
     ]
    }
   ],
   "source": [
    "#Testing using MNIST dataset\n",
    "\n",
    "score = model_dnn.evaluate(x_testdnn, to_categorical(y_testdnn))\n",
    "print('Test loss:', score[0])\n",
    "print('Test accuracy:', score[1])\n",
    "\n",
    "pred_dnn = np.empty((10000,0))\n",
    "for i in range(10000):\n",
    "    pred = model_dnn.predict(x_testdnn[i].reshape(1, 784))\n",
    "    for i in range(pred.shape[0]):\n",
    "        datum = pred[i]\n",
    "        preddec = np.argmax(pred[i])\n",
    "    pred_dnn = np.append(pred_dnn, preddec)\n",
    "\n",
    "print(pred_dnn)\n",
    "print(y_test)\n",
    "np.savetxt(\"dnn.csv\", pred_dnn, delimiter=\",\")\n",
    "confusion = tf.confusion_matrix(labels=y_test, predictions=pred_dnn)\n",
    "with tf.Session():\n",
    "   print('Confusion Matrix: \\n\\n', tf.Tensor.eval(confusion,feed_dict=None, session=None))\n",
    " "
   ]
  },
  {
   "cell_type": "code",
   "execution_count": 10,
   "metadata": {},
   "outputs": [
    {
     "name": "stdout",
     "output_type": "stream",
     "text": [
      "19999/19999 [==============================] - 6s 297us/step\n",
      "Test loss: 5.231310031516438\n",
      "Test accuracy: 0.4790739536932143\n",
      "Confusion Matrix: \n",
      "\n",
      " [[ 841    4  124   35  246   71  182   63  105  329]\n",
      " [  61  512  353   63  366  108   19  329  108   81]\n",
      " [ 166   12 1473   16   39   43  134   41   71    4]\n",
      " [  49   12  232 1256   21  319   17   24   53   17]\n",
      " [  20   48   42   11 1279   84   37  184  251   44]\n",
      " [ 109    0  189   99   36 1241  115   35  165   11]\n",
      " [ 187   16  243    8   42   72 1266   41   43   82]\n",
      " [  53  206  354  282   86   25   30  709  242   13]\n",
      " [ 233    7  140  257  155  211  177   92  697   31]\n",
      " [  12   55  120  256  275   21    5  554  395  307]]\n"
     ]
    }
   ],
   "source": [
    "#Testing using USPS dataset\n",
    "\n",
    "from PIL import Image\n",
    "import os\n",
    "import numpy as np\n",
    "\n",
    "#USPS data preprocessing\n",
    "USPSMat  = []\n",
    "USPSTar  = []\n",
    "curPath  = 'USPSdata/Numerals'\n",
    "savedImg = []\n",
    "\n",
    "\n",
    "for j in range(0,10):\n",
    "    curFolderPath = curPath + '/' + str(j)\n",
    "    imgs =  os.listdir(curFolderPath)\n",
    "    for img in imgs:\n",
    "        curImg = curFolderPath + '/' + img\n",
    "        if curImg[-3:] == 'png':\n",
    "            img = Image.open(curImg,'r')\n",
    "            img = img.resize((28, 28))\n",
    "            savedImg = img\n",
    "            imgdata = (255-np.array(img.getdata()))/255\n",
    "            USPSMat.append(imgdata)\n",
    "            USPSTar.append(j)\n",
    "usps_data = np.array(USPSMat) \n",
    "usps_lables = np.array(USPSTar)\n",
    "\n",
    "#Testing using USPS data\n",
    "\n",
    "score = model_dnn.evaluate(usps_data, to_categorical(usps_lables))\n",
    "print('Test loss:', score[0])\n",
    "print('Test accuracy:', score[1])\n",
    "\n",
    "pred_dnn = np.empty((19999,0))\n",
    "for i in range(19999):\n",
    "    pred = model_dnn.predict(usps_data[i].reshape(1, 784))\n",
    "    for i in range(pred.shape[0]):\n",
    "        datum = pred[i]\n",
    "        preddec = np.argmax(pred[i])\n",
    "    pred_dnn = np.append(pred_dnn, preddec)\n",
    "np.savetxt(\"dnn_usps.csv\", pred_dnn, delimiter=\",\")\n",
    "confusion = tf.confusion_matrix(labels=usps_lables, predictions=pred_dnn)\n",
    "with tf.Session():\n",
    "   print('Confusion Matrix: \\n\\n', tf.Tensor.eval(confusion,feed_dict=None, session=None))"
   ]
  },
  {
   "cell_type": "code",
   "execution_count": null,
   "metadata": {},
   "outputs": [],
   "source": []
  }
 ],
 "metadata": {
  "kernelspec": {
   "display_name": "Python 3",
   "language": "python",
   "name": "python3"
  },
  "language_info": {
   "codemirror_mode": {
    "name": "ipython",
    "version": 3
   },
   "file_extension": ".py",
   "mimetype": "text/x-python",
   "name": "python",
   "nbconvert_exporter": "python",
   "pygments_lexer": "ipython3",
   "version": "3.6.5"
  }
 },
 "nbformat": 4,
 "nbformat_minor": 2
}
