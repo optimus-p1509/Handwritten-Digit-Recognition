{
 "cells": [
  {
   "cell_type": "markdown",
   "metadata": {},
   "source": [
    "## Importing Dependencies"
   ]
  },
  {
   "cell_type": "code",
   "execution_count": 157,
   "metadata": {},
   "outputs": [],
   "source": [
    "import numpy as np\n",
    "import pandas as pd\n",
    "import matplotlib.pyplot as plt\n",
    "import pickle\n",
    "import gzip\n",
    "import os\n",
    "from PIL import Image\n",
    "import csv\n",
    "import numpy as np\n",
    "import matplotlib.pyplot as plt\n",
    "from sklearn.preprocessing import OneHotEncoder\n",
    "import scipy.sparse\n",
    "import tensorflow as tf\n",
    "%matplotlib inline"
   ]
  },
  {
   "cell_type": "markdown",
   "metadata": {},
   "source": [
    "## PreProcessing USPS Dataset"
   ]
  },
  {
   "cell_type": "code",
   "execution_count": 158,
   "metadata": {},
   "outputs": [],
   "source": [
    "USPSMat  = []\n",
    "USPSTar  = []\n",
    "USPSMatNew  = []\n",
    "USPSTarNew  = []\n",
    "curPath  = 'USPSdata/Numerals'\n",
    "savedImg = []\n",
    "\n",
    "for j in range(0,10):\n",
    "    #print(j)\n",
    "    curFolderPath = curPath + '/' + str(j)\n",
    "    imgs =  os.listdir(curFolderPath)\n",
    "    for img in imgs:\n",
    "        curImg = curFolderPath + '/' + img\n",
    "        if curImg[-3:] == 'png':\n",
    "            img = Image.open(curImg,'r')\n",
    "            img = img.resize((20, 20))\n",
    "            imgData = (255-np.array(img.getdata()))/255\n",
    "            USPSMat.append(imgData)\n",
    "            USPSTar.append(j)\n",
    "            new_im = Image.new(\"P\", (28,28), (255))\n",
    "            new_im.paste(img, (4,4))\n",
    "            savedImg = new_im\n",
    "            new_imData = (255-np.array(new_im.getdata()))/255\n",
    "            USPSMatNew.append(new_imData)\n",
    "            USPSTarNew.append(j)\n"
   ]
  },
  {
   "cell_type": "markdown",
   "metadata": {},
   "source": [
    "## Generating USPS Training and Testing Dataset"
   ]
  },
  {
   "cell_type": "code",
   "execution_count": 159,
   "metadata": {},
   "outputs": [
    {
     "name": "stdout",
     "output_type": "stream",
     "text": [
      "19999\n",
      "19999\n",
      "784\n",
      "[1. 0. 0. 0. 0. 0. 0. 0. 0. 0.]\n",
      "(785, 19999)\n",
      "(19999, 10)\n"
     ]
    }
   ],
   "source": [
    "X_USPS = USPSMatNew\n",
    "y_USPS = USPSTarNew\n",
    "print(len(X_USPS))\n",
    "print(len(Y_USPS))\n",
    "print(len(X_USPS[0]))\n",
    "print(Y_USPS[0])\n",
    "X_USPS = np.asarray(USPSMatNew)\n",
    "X_USPS = np.append(arr=np.ones((19999,1)).astype(int),values=X_USPS,axis=1)\n",
    "X_USPS = X_USPS.T\n",
    "Y_USPS = np.asarray(USPSTarNew)\n",
    "Y_USPS = Y_USPS.reshape(-1, 1)\n",
    "onehotencoder = OneHotEncoder(categorical_features=[0])\n",
    "Y_USPS = onehotencoder.fit_transform(Y_USPS).toarray()\n",
    "print(X_USPS.shape)\n",
    "print(Y_USPS.shape)"
   ]
  },
  {
   "cell_type": "markdown",
   "metadata": {},
   "source": [
    "## Generating MNIST Training and Testing Dataset"
   ]
  },
  {
   "cell_type": "code",
   "execution_count": 160,
   "metadata": {},
   "outputs": [],
   "source": [
    "filename = 'mnist.pkl.gz'\n",
    "f = gzip.open(filename, 'rb')\n",
    "training_data, validation_data, test_data = pickle.load(f, encoding='latin1')\n",
    "f.close()\n",
    "temp = test_data[1]\n",
    "\n",
    "#Training Data\n",
    "X_train = np.asarray(training_data[0])\n",
    "X_train = np.append(arr=np.ones((50000,1)).astype(int),values=X_train,axis=1)\n",
    "x_train = X_train.T\n",
    "y_train = np.asarray(training_data[1])\n",
    "y_train = y_train.reshape(y_train.shape[0],1)\n",
    "onehotencoder = OneHotEncoder(categorical_features=[0])\n",
    "y_train = onehotencoder.fit_transform(y_train).toarray()\n",
    "y_train = y_train.T\n",
    "\n",
    "#Validation Data\n",
    "X_val = np.asarray(validation_data[0])\n",
    "X_val = np.append(arr=np.ones((10000,1)).astype(int),values=X_val,axis=1)\n",
    "x_val = X_val.T\n",
    "y_val = np.asarray(validation_data[1])\n",
    "y_val = y_val.reshape(y_val.shape[0],1)\n",
    "onehotencoder = OneHotEncoder(categorical_features=[0])\n",
    "y_val = onehotencoder.fit_transform(y_val).toarray()\n",
    "\n",
    "\n",
    "#Testing Data\n",
    "X_test = np.asarray(test_data[0])\n",
    "X_test = np.append(arr=np.ones((10000,1)).astype(int),values=X_test,axis=1)\n",
    "x_test = X_test.T\n",
    "y_test = np.asarray(test_data[1])\n",
    "y_test = y_test.reshape(y_test.shape[0],1)\n",
    "onehotencoder = OneHotEncoder(categorical_features=[0])\n",
    "y_test = onehotencoder.fit_transform(y_test).toarray()"
   ]
  },
  {
   "cell_type": "markdown",
   "metadata": {},
   "source": [
    "## Function Declarations"
   ]
  },
  {
   "cell_type": "code",
   "execution_count": 161,
   "metadata": {},
   "outputs": [],
   "source": [
    "def oneHotIt(Y):\n",
    "    m = Y.shape[0]\n",
    "    OHX = scipy.sparse.csr_matrix((np.ones(m), (Y, np.array(range(m)))))\n",
    "    OHX = np.array(OHX.todense()).T\n",
    "    return OHX\n",
    "\n",
    "def getLoss(w,x,y,lam):\n",
    "    m = x.shape[0]\n",
    "    y_mat = y.T\n",
    "    scores = np.dot(x.T,w)\n",
    "    prob = softmax(scores)\n",
    "    loss = (-1 / m) * np.sum(y_mat * np.log(prob)) + (lam/2)*np.sum(w*w)\n",
    "    grad = (-1 / m) * np.dot(x,(y_mat - prob)) + lam*w\n",
    "    return loss,grad\n",
    "\n",
    "def softmax(z):\n",
    "    z -= np.max(z)\n",
    "    sm = (np.exp(z).T / np.sum(np.exp(z),axis=1)).T\n",
    "    return sm\n",
    "\n",
    "def getProbsAndPreds(someX):\n",
    "    probs = softmax(np.dot(someX,w))\n",
    "    preds = np.argmax(probs,axis=1)\n",
    "    return probs,preds"
   ]
  },
  {
   "cell_type": "markdown",
   "metadata": {},
   "source": [
    "## Logistic Regression"
   ]
  },
  {
   "cell_type": "code",
   "execution_count": 162,
   "metadata": {},
   "outputs": [
    {
     "name": "stdout",
     "output_type": "stream",
     "text": [
      "113.20023424811879\n"
     ]
    }
   ],
   "source": [
    "w = np.zeros([X_train.shape[1],10])\n",
    "lam = 1\n",
    "iterations = 1000\n",
    "learningRate = 1e-5\n",
    "losses = []\n",
    "for i in range(0,iterations):\n",
    "    loss,grad = getLoss(w,x_train,y_train,lam)\n",
    "    losses.append(loss)\n",
    "    w = w - (learningRate * grad)\n",
    "print(loss)"
   ]
  },
  {
   "cell_type": "markdown",
   "metadata": {},
   "source": [
    "## Plotting Graphs"
   ]
  },
  {
   "cell_type": "code",
   "execution_count": 167,
   "metadata": {},
   "outputs": [
    {
     "data": {
      "image/png": "[encoded data removed]",
      "text/plain": [
       "<Figure size 432x288 with 1 Axes>"
      ]
     },
     "metadata": {},
     "output_type": "display_data"
    }
   ],
   "source": [
    "fig, ax = plt.subplots()\n",
    "ax.plot(losses)\n",
    "ax.set_xlabel('Iterations')  \n",
    "ax.set_ylabel('Loss')  \n",
    "ax.set_title('Loss vs. Iterations')\n",
    "fig.savefig(\"logistic.png\")\n"
   ]
  },
  {
   "cell_type": "markdown",
   "metadata": {},
   "source": [
    "## Accuracy Calculation"
   ]
  },
  {
   "cell_type": "code",
   "execution_count": 168,
   "metadata": {},
   "outputs": [],
   "source": [
    "def getAccuracy(someX,someY):\n",
    "    count = 0\n",
    "    prob,prede = getProbsAndPreds(someX.T)\n",
    "    prede = oneHotIt(prede)\n",
    "    accuracy = sum(prede == someY)/(float(len(someY)))\n",
    "    accuracy = np.average(accuracy)\n",
    "    return accuracy"
   ]
  },
  {
   "cell_type": "code",
   "execution_count": 171,
   "metadata": {},
   "outputs": [
    {
     "name": "stdout",
     "output_type": "stream",
     "text": [
      "Training Accuracy:  0.9509879999999999\n",
      "Validation Accuracy:  0.95464\n",
      "Test Accuracy:  0.95322\n",
      "USPS Accuracy:  0.863763188159408\n"
     ]
    }
   ],
   "source": [
    "print('Training Accuracy: ', getAccuracy(x_train,y_train.T))\n",
    "print('Validation Accuracy: ', getAccuracy(x_val,y_val))\n",
    "print('Test Accuracy: ', getAccuracy(x_test,y_test))\n",
    "prob,prede = getProbsAndPreds(x_test.T)\n",
    "np.savetxt(\"logistic.csv\", prede, delimiter=\",\")\n",
    "np.savetxt(\"actual.csv\", y_test, delimiter=\",\")\n",
    "print('USPS Accuracy: ',getAccuracy(X_USPS,Y_USPS))\n",
    "prob,prede2 = getProbsAndPreds(X_USPS.T)\n",
    "np.savetxt(\"logistic_usps.csv\", prede2, delimiter=\",\")\n",
    "np.savetxt(\"actual_usps.csv\", Y_USPS, delimiter=\",\")"
   ]
  },
  {
   "cell_type": "code",
   "execution_count": null,
   "metadata": {},
   "outputs": [],
   "source": []
  }
 ],
 "metadata": {
  "kernelspec": {
   "display_name": "Python 3",
   "language": "python",
   "name": "python3"
  },
  "language_info": {
   "codemirror_mode": {
    "name": "ipython",
    "version": 3
   },
   "file_extension": ".py",
   "mimetype": "text/x-python",
   "name": "python",
   "nbconvert_exporter": "python",
   "pygments_lexer": "ipython3",
   "version": "3.6.5"
  }
 },
 "nbformat": 4,
 "nbformat_minor": 2
}
