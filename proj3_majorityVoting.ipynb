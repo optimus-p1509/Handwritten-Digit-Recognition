{
 "cells": [
  {
   "cell_type": "markdown",
   "metadata": {},
   "source": [
    "## Importing Dependencies"
   ]
  },
  {
   "cell_type": "code",
   "execution_count": 1,
   "metadata": {},
   "outputs": [],
   "source": [
    "from numpy import genfromtxt\n",
    "import numpy as np\n",
    "from collections import Counter"
   ]
  },
  {
   "cell_type": "markdown",
   "metadata": {},
   "source": [
    "## Importing Predictions for the Classifiers"
   ]
  },
  {
   "cell_type": "code",
   "execution_count": 2,
   "metadata": {},
   "outputs": [],
   "source": [
    "logistic = genfromtxt('logistic.csv', delimiter=',')\n",
    "cnn = genfromtxt('cnn.csv', delimiter=',')\n",
    "dnn = genfromtxt('dnn.csv', delimiter=',')\n",
    "svm = genfromtxt('svm.csv', delimiter=',')\n",
    "rf = genfromtxt('rf.csv', delimiter=',')\n",
    "actual = genfromtxt('actual.csv', delimiter=',')"
   ]
  },
  {
   "cell_type": "code",
   "execution_count": 3,
   "metadata": {},
   "outputs": [],
   "source": [
    "logistic_usps = genfromtxt('logistic_usps.csv', delimiter=',')\n",
    "cnn_usps = genfromtxt('cnn_usps.csv', delimiter=',')\n",
    "dnn_usps = genfromtxt('dnn_usps.csv', delimiter=',')\n",
    "svm_usps = genfromtxt('svm_usps.csv', delimiter=',')\n",
    "rf_usps = genfromtxt('rf_usps.csv', delimiter=',')\n",
    "actual_usps = genfromtxt('actual_usps.csv', delimiter=',')"
   ]
  },
  {
   "cell_type": "markdown",
   "metadata": {},
   "source": [
    "## Decoding the Actual Targets"
   ]
  },
  {
   "cell_type": "code",
   "execution_count": 4,
   "metadata": {},
   "outputs": [],
   "source": [
    "new_actual = []\n",
    "for i in actual:\n",
    "    new_actual.append(np.argmax(i))\n",
    "new_actual_usps = []\n",
    "for i in actual_usps:\n",
    "    new_actual_usps.append(np.argmax(i))"
   ]
  },
  {
   "cell_type": "markdown",
   "metadata": {},
   "source": [
    "## Majority Voting"
   ]
  },
  {
   "cell_type": "code",
   "execution_count": 5,
   "metadata": {},
   "outputs": [],
   "source": [
    "combined_predicted = []\n",
    "for i in range(len(logistic)):\n",
    "    row = [int(logistic[i]),int(cnn[i]),int(dnn[i]),int(svm[i]),int(rf[i])]\n",
    "    most_common,num_most_common = Counter(row).most_common(1)[0]\n",
    "    combined_predicted.append(most_common)\n",
    "combined_predicted_usps = []\n",
    "for i in range(len(logistic_usps)):\n",
    "    row = [int(logistic_usps[i]),int(cnn_usps[i]),int(dnn_usps[i]),int(svm_usps[i]),int(rf_usps[i])]\n",
    "    most_common,num_most_common = Counter(row).most_common(1)[0]\n",
    "    combined_predicted_usps.append(most_common)"
   ]
  },
  {
   "cell_type": "markdown",
   "metadata": {},
   "source": [
    "## Accuracy Calculation"
   ]
  },
  {
   "cell_type": "code",
   "execution_count": 6,
   "metadata": {},
   "outputs": [],
   "source": [
    "def calculate_accuracy(x,y):\n",
    "    count = 0\n",
    "    for i in range(len(y)):\n",
    "        if x[i] == y[i]:\n",
    "            count+=1\n",
    "#     accuracy = sum(x == y)/(float(len(y)))\n",
    "#     accuracy = np.mean(accuracy)\n",
    "    accuracy = count/float(len(y))\n",
    "    return accuracy"
   ]
  },
  {
   "cell_type": "code",
   "execution_count": 8,
   "metadata": {},
   "outputs": [
    {
     "name": "stdout",
     "output_type": "stream",
     "text": [
      "Combined accuracy MNIST:  0.971\n",
      "Combined accuracy USPS:  0.49812490624531225\n"
     ]
    }
   ],
   "source": [
    "accuracy = calculate_accuracy(combined_predicted,new_actual)\n",
    "print(\"Combined accuracy MNIST: \",accuracy)\n",
    "accuracy_usps = calculate_accuracy(combined_predicted_usps,new_actual_usps)\n",
    "print(\"Combined accuracy USPS: \",accuracy_usps)"
   ]
  },
  {
   "cell_type": "code",
   "execution_count": null,
   "metadata": {},
   "outputs": [],
   "source": []
  }
 ],
 "metadata": {
  "kernelspec": {
   "display_name": "Python 3",
   "language": "python",
   "name": "python3"
  },
  "language_info": {
   "codemirror_mode": {
    "name": "ipython",
    "version": 3
   },
   "file_extension": ".py",
   "mimetype": "text/x-python",
   "name": "python",
   "nbconvert_exporter": "python",
   "pygments_lexer": "ipython3",
   "version": "3.6.5"
  }
 },
 "nbformat": 4,
 "nbformat_minor": 2
}
